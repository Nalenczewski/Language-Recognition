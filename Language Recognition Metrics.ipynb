{
 "cells": [
  {
   "cell_type": "markdown",
   "id": "2afbf53a",
   "metadata": {},
   "source": [
    "### Language Recognition\n",
    "\n",
    "![](./README_files/ex2.png)\n",
    "\n",
    "### First Sentence Prediction\n",
    "\n",
    "![](./README_files/ex3.png)"
   ]
  }
 ],
 "metadata": {
  "kernelspec": {
   "display_name": "Python 3 (ipykernel)",
   "language": "python",
   "name": "python3"
  },
  "language_info": {
   "codemirror_mode": {
    "name": "ipython",
    "version": 3
   },
   "file_extension": ".py",
   "mimetype": "text/x-python",
   "name": "python",
   "nbconvert_exporter": "python",
   "pygments_lexer": "ipython3",
   "version": "3.9.12"
  }
 },
 "nbformat": 4,
 "nbformat_minor": 5
}
