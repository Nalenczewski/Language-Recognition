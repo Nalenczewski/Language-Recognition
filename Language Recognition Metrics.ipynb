{
 "cells": [
  {
   "cell_type": "markdown",
   "id": "bc4f1898",
   "metadata": {},
   "source": [
    "### Language Recognition"
   ]
  },
  {
   "cell_type": "code",
   "execution_count": 1,
   "id": "c560c073",
   "metadata": {},
   "outputs": [
    {
     "data": {
      "text/html": [
       "<div>\n",
       "<style scoped>\n",
       "    .dataframe tbody tr th:only-of-type {\n",
       "        vertical-align: middle;\n",
       "    }\n",
       "\n",
       "    .dataframe tbody tr th {\n",
       "        vertical-align: top;\n",
       "    }\n",
       "\n",
       "    .dataframe thead th {\n",
       "        text-align: right;\n",
       "    }\n",
       "</style>\n",
       "<table border=\"1\" class=\"dataframe\">\n",
       "  <thead>\n",
       "    <tr style=\"text-align: right;\">\n",
       "      <th></th>\n",
       "      <th></th>\n",
       "      <th>Training Data Accuracy</th>\n",
       "      <th>Test Data Accuracy</th>\n",
       "    </tr>\n",
       "  </thead>\n",
       "  <tbody>\n",
       "    <tr>\n",
       "      <th rowspan=\"2\" valign=\"top\">Count Vectorizer</th>\n",
       "      <th>Logistic Regression</th>\n",
       "      <td>0.993295</td>\n",
       "      <td>0.939773</td>\n",
       "    </tr>\n",
       "    <tr>\n",
       "      <th>Naive Bayes</th>\n",
       "      <td>0.991023</td>\n",
       "      <td>0.959318</td>\n",
       "    </tr>\n",
       "    <tr>\n",
       "      <th rowspan=\"2\" valign=\"top\">Tf-idf</th>\n",
       "      <th>Logistic Regression</th>\n",
       "      <td>0.974034</td>\n",
       "      <td>0.941364</td>\n",
       "    </tr>\n",
       "    <tr>\n",
       "      <th>Naive Bayes</th>\n",
       "      <td>0.983920</td>\n",
       "      <td>0.939545</td>\n",
       "    </tr>\n",
       "  </tbody>\n",
       "</table>\n",
       "</div>"
      ],
      "text/plain": [
       "                                      Training Data Accuracy  \\\n",
       "Count Vectorizer Logistic Regression                0.993295   \n",
       "                 Naive Bayes                        0.991023   \n",
       "Tf-idf           Logistic Regression                0.974034   \n",
       "                 Naive Bayes                        0.983920   \n",
       "\n",
       "                                      Test Data Accuracy  \n",
       "Count Vectorizer Logistic Regression            0.939773  \n",
       "                 Naive Bayes                    0.959318  \n",
       "Tf-idf           Logistic Regression            0.941364  \n",
       "                 Naive Bayes                    0.939545  "
      ]
     },
     "execution_count": 1,
     "metadata": {},
     "output_type": "execute_result"
    }
   ],
   "source": [
    "%store -r accuracy_df\n",
    "accuracy_df"
   ]
  },
  {
   "cell_type": "markdown",
   "id": "53dd366a",
   "metadata": {},
   "source": [
    "### First Sentence Prediction"
   ]
  },
  {
   "cell_type": "code",
   "execution_count": 2,
   "id": "a7ccfcfe",
   "metadata": {},
   "outputs": [
    {
     "data": {
      "text/html": [
       "<div>\n",
       "<style scoped>\n",
       "    .dataframe tbody tr th:only-of-type {\n",
       "        vertical-align: middle;\n",
       "    }\n",
       "\n",
       "    .dataframe tbody tr th {\n",
       "        vertical-align: top;\n",
       "    }\n",
       "\n",
       "    .dataframe thead th {\n",
       "        text-align: right;\n",
       "    }\n",
       "</style>\n",
       "<table border=\"1\" class=\"dataframe\">\n",
       "  <thead>\n",
       "    <tr style=\"text-align: right;\">\n",
       "      <th></th>\n",
       "      <th></th>\n",
       "      <th>Training Data</th>\n",
       "      <th>Test Data</th>\n",
       "    </tr>\n",
       "  </thead>\n",
       "  <tbody>\n",
       "    <tr>\n",
       "      <th rowspan=\"2\" valign=\"top\">Count Vectorizer</th>\n",
       "      <th>Accuracy</th>\n",
       "      <td>0.673437</td>\n",
       "      <td>0.533291</td>\n",
       "    </tr>\n",
       "    <tr>\n",
       "      <th>F1 Score</th>\n",
       "      <td>0.645661</td>\n",
       "      <td>0.443936</td>\n",
       "    </tr>\n",
       "    <tr>\n",
       "      <th rowspan=\"2\" valign=\"top\">Tf-idf</th>\n",
       "      <th>Accuracy</th>\n",
       "      <td>0.695176</td>\n",
       "      <td>0.592190</td>\n",
       "    </tr>\n",
       "    <tr>\n",
       "      <th>F1 Score</th>\n",
       "      <td>0.684098</td>\n",
       "      <td>0.547264</td>\n",
       "    </tr>\n",
       "  </tbody>\n",
       "</table>\n",
       "</div>"
      ],
      "text/plain": [
       "                           Training Data  Test Data\n",
       "Count Vectorizer Accuracy       0.673437   0.533291\n",
       "                 F1 Score       0.645661   0.443936\n",
       "Tf-idf           Accuracy       0.695176   0.592190\n",
       "                 F1 Score       0.684098   0.547264"
      ]
     },
     "execution_count": 2,
     "metadata": {},
     "output_type": "execute_result"
    }
   ],
   "source": [
    "%store -r accuracy_f1\n",
    "accuracy_f1"
   ]
  }
 ],
 "metadata": {
  "kernelspec": {
   "display_name": "Python 3 (ipykernel)",
   "language": "python",
   "name": "python3"
  },
  "language_info": {
   "codemirror_mode": {
    "name": "ipython",
    "version": 3
   },
   "file_extension": ".py",
   "mimetype": "text/x-python",
   "name": "python",
   "nbconvert_exporter": "python",
   "pygments_lexer": "ipython3",
   "version": "3.9.12"
  }
 },
 "nbformat": 4,
 "nbformat_minor": 5
}
